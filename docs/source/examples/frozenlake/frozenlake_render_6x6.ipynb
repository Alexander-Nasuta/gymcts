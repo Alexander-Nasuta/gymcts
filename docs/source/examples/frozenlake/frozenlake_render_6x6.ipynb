{
 "cells": [
  {
   "cell_type": "markdown",
   "id": "85f3251e",
   "metadata": {},
   "source": [
    "# Your Header Title"
   ]
  },
  {
   "cell_type": "code",
   "execution_count": null,
   "id": "260dee33",
   "metadata": {},
   "outputs": [],
   "source": [
    "import gymnasium as gym"
   ]
  },
  {
   "cell_type": "code",
   "execution_count": null,
   "id": "5aa432a5",
   "metadata": {},
   "outputs": [],
   "source": [
    "from gymcts.gymcts_agent import GymctsAgent\n",
    "from gymcts.gymcts_deepcopy_wrapper import DeepCopyMCTSGymEnvWrapper"
   ]
  },
  {
   "cell_type": "code",
   "execution_count": null,
   "id": "250b0f43",
   "metadata": {},
   "outputs": [],
   "source": [
    "from gymcts.logger import log"
   ]
  },
  {
   "cell_type": "code",
   "execution_count": null,
   "id": "fa085fb3",
   "metadata": {},
   "outputs": [],
   "source": [
    "log.setLevel(20)"
   ]
  },
  {
   "cell_type": "code",
   "execution_count": null,
   "id": "75fe78e0",
   "metadata": {},
   "outputs": [],
   "source": [
    "if __name__ == '__main__':\n",
    "    log.debug(\"Starting example\")\n",
    "\n",
    "    # 0. create the environment\n",
    "    custom_map = [\n",
    "        \"SFFFFF\",\n",
    "        \"FFFFFF\",\n",
    "        \"FFFHFF\",\n",
    "        \"FFFFFH\",\n",
    "        \"FHFFFF\",\n",
    "        \"FFFFFG\"\n",
    "    ]\n",
    "    env = gym.make(\n",
    "        'FrozenLake-v1',\n",
    "        desc=custom_map,\n",
    "        map_name=None,\n",
    "        is_slippery=False,\n",
    "        render_mode=\"rgb_array\"\n",
    "    )\n",
    "    env.reset()\n",
    "\n",
    "    # 1. wrap the environment with the naive wrapper or a custom gymcts wrapper\n",
    "    env = DeepCopyMCTSGymEnvWrapper(env)\n",
    "\n",
    "    # 2. create the agent\n",
    "    agent = GymctsAgent(env=env, clear_mcts_tree_after_step=False)\n",
    "\n",
    "    # 3. solve the environment\n",
    "    actions = agent.solve(num_simulations_per_step=400)\n",
    "\n",
    "    # 4. render the environment solution in the terminal\n",
    "    env = gym.wrappers.RecordVideo(\n",
    "        env,\n",
    "        video_folder=\"./videos\",\n",
    "        episode_trigger=lambda episode_id: True,\n",
    "        name_prefix=\"frozenlake_6x6\"\n",
    "    )\n",
    "    env.reset()\n",
    "\n",
    "\n",
    "    for a in actions:\n",
    "        obs, rew, term, trun, info = env.step(a)\n",
    "\n",
    "    env.close()"
   ]
  }
 ],
 "metadata": {
  "jupytext": {
   "cell_metadata_filter": "-all",
   "main_language": "python",
   "notebook_metadata_filter": "-all"
  }
 },
 "nbformat": 4,
 "nbformat_minor": 5
}
